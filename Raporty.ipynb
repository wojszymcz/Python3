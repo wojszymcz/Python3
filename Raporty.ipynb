{
 "cells": [
  {
   "cell_type": "markdown",
   "id": "5f786fa5",
   "metadata": {},
   "source": [
    "## Generowanie raportów pdf\n",
    "Wygeneruję tutaj raporty dla każdego z ekonomistów, potem będą do pobrania ze strony www"
   ]
  },
  {
   "cell_type": "code",
   "execution_count": 1,
   "id": "84f83eee",
   "metadata": {},
   "outputs": [],
   "source": [
    "#!pip install reportlab\n",
    "import pandas as pd\n",
    "import pickle\n",
    "from reportlab.pdfgen.canvas import Canvas\n",
    "from reportlab.lib.units import inch\n",
    "from reportlab.pdfbase.ttfonts import TTFont\n",
    "from reportlab.pdfbase import pdfmetrics"
   ]
  },
  {
   "cell_type": "code",
   "execution_count": 2,
   "id": "ebf2f5a1",
   "metadata": {},
   "outputs": [],
   "source": [
    "# Czytanie ekonomistów:\n",
    "data = pd.read_csv('../Polish_all_economists_24_01.csv')\n",
    "# Wczytywanie pliku CrossRef.pkl\n",
    "\n",
    "with open('../CrossRef.pkl', 'rb') as fp:\n",
    "    CrossRef = pickle.load(fp)"
   ]
  },
  {
   "cell_type": "code",
   "execution_count": 5,
   "id": "e80425ba",
   "metadata": {},
   "outputs": [],
   "source": [
    "pdfmetrics.registerFont(TTFont('Verdana', 'Verdana.ttf'))\n",
    "\n",
    "for i in range(len(data)):\n",
    "    id=data.loc[i, \"ID\"]\n",
    "    id_long=f\"id_{id}\"\n",
    "    canvas = Canvas(f\"{id_long}.pdf\")\n",
    "    canvas.setPageSize((11.7*inch, 11.7*inch))\n",
    "    canvas.setFont(\"Verdana\", 18)\n",
    "    number = i\n",
    "    \n",
    "    name = data.loc[number,\"Autor\"]\n",
    "    canvas.drawString(0.6*inch, 11*inch, f\"Imię i nazwisko: {name}\")\n",
    "    canvas.setFont(\"Verdana\", 12)\n",
    "    inst = data.loc[number,\"Instytucja\"]\n",
    "    canvas.drawString(0.6*inch, 10*inch, f\"Główna afiliacja:  {inst}\")\n",
    "    cit = data.loc[number,\"Cytowania\"]\n",
    "    auto = data.loc[number,\"Auto_cytowania\"]\n",
    "    h_in = data.loc[number,\"H_index\"]\n",
    "    canvas.drawString(0.6*inch, 9.6*inch, f\"Liczba cytowań: {cit}. Liczba autocytowań: {auto}. H-index: {h_in}\")\n",
    "    art = data.loc[number,\"Artykuły\"]\n",
    "    book = data.loc[number,\"Książki\"]\n",
    "    chap = data.loc[number,\"Rozdziały\"]\n",
    "    pap = data.loc[number,\"Papers\"]\n",
    "    canvas.drawString(0.6*inch, 9.2*inch, f\"Liczba artykułów: {art}. Liczba książek: {book}. Rozdziały: {chap}. Papers: {pap}\")\n",
    "    start = data.loc[number,\"rok_start\"]\n",
    "    koniec = data.loc[number,\"rok_koniec\"]\n",
    "    canvas.drawString(0.6*inch, 8.8*inch, f\"Rok rozpoczęcia działalności naukowej: {start}. Ostatni aktywny rok: {koniec}.\")\n",
    "    canvas.drawString(0.6*inch, 8.4*inch, \"Wybrane artykuły lub inne prace z usługi Cross-Ref:\")\n",
    "    canvas.setFont(\"Verdana\", 10)\n",
    "    try:\n",
    "        for i in range(len(CrossRef[id_long][\"pubs\"][\"message\"][\"items\"])):\n",
    "            try:\n",
    "                t = CrossRef[id_long][\"pubs\"][\"message\"][\"items\"][i][\"title\"][0]\n",
    "            except KeyError as e:\n",
    "                t = \"Tytuł niedostępny\"\n",
    "            try:\n",
    "                x = CrossRef[id_long][\"pubs\"][\"message\"][\"items\"][i][\"DOI\"]\n",
    "                d = f\"DOI: {x}\"\n",
    "            except KeyError as e:\n",
    "                d = \" \"\n",
    "            canvas.drawString(0.6*inch, (8-i*0.2)*inch, f\"{t}, {d}\")\n",
    "    except KeyError as e:\n",
    "        canvas.drawString(0.6*inch, 8*inch, \"Niestety nie uzyskano danych z usługi Cross-Ref\")\n",
    "\n",
    "    try:\n",
    "        ktos = list(ludzie[id][\"works_with\"][0:5][\"Osoba\"])\n",
    "        ktos_id = list(ludzie[id][\"works_with\"][0:5][\"ID\"])\n",
    "    except:\n",
    "        ktos = \"\"\n",
    "\n",
    "    canvas.setFont(\"Verdana\", 12)\n",
    "    canvas.drawString(0.6*inch, 3.6*inch, \"Dominujący współpracownicy:\")\n",
    "    canvas.setFont(\"Verdana\", 10)\n",
    "    for i in range(len(ktos)):\n",
    "        canvas.drawString(0.6*inch, (3.4-i*0.2)*inch, f\"{ktos[i]}, REPEC_ID: {ktos_id[i]}\")\n",
    "\n",
    "    canvas.setFont(\"Verdana\", 8)\n",
    "    canvas.drawString(0.6*inch, 0.5*inch, \"Wykonali: Tymoteusz Mętrak (t.metrak@student.uw.edu.pl) & Wojciech Szymczak (w.szymczak2@student.uw.edu.pl)\")\n",
    "    canvas.drawString(0.6*inch, 0.3*inch, \"Stan danych na 30 grudnia 2023 r.\")\n",
    "\n",
    "    canvas.save()"
   ]
  },
  {
   "cell_type": "code",
   "execution_count": null,
   "id": "135d3fa1",
   "metadata": {},
   "outputs": [],
   "source": []
  }
 ],
 "metadata": {
  "kernelspec": {
   "display_name": "Python 3 (ipykernel)",
   "language": "python",
   "name": "python3"
  },
  "language_info": {
   "codemirror_mode": {
    "name": "ipython",
    "version": 3
   },
   "file_extension": ".py",
   "mimetype": "text/x-python",
   "name": "python",
   "nbconvert_exporter": "python",
   "pygments_lexer": "ipython3",
   "version": "3.11.5"
  }
 },
 "nbformat": 4,
 "nbformat_minor": 5
}
